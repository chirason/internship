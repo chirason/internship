{
 "cells": [
  {
   "cell_type": "markdown",
   "id": "59201807",
   "metadata": {},
   "source": [
    "# Find the factorial of a number."
   ]
  },
  {
   "cell_type": "code",
   "execution_count": 9,
   "id": "c439fe5f",
   "metadata": {},
   "outputs": [
    {
     "name": "stdout",
     "output_type": "stream",
     "text": [
      "enter a number23\n",
      "factorial of 23 = 25852016738884976640000\n"
     ]
    }
   ],
   "source": [
    "num = int(input('enter a number'))\n",
    "f=1\n",
    "for i in range(1,num+1):\n",
    "  f=f*i\n",
    "print ('factorial of', num, '=',f)"
   ]
  },
  {
   "cell_type": "markdown",
   "id": "8310d6b8",
   "metadata": {},
   "source": [
    "# Write a python program to find whether a number is prime or composite."
   ]
  },
  {
   "cell_type": "code",
   "execution_count": 16,
   "id": "12b26227",
   "metadata": {},
   "outputs": [
    {
     "name": "stdout",
     "output_type": "stream",
     "text": [
      "enter a number23\n",
      "23 is a prime number\n"
     ]
    }
   ],
   "source": [
    "number = int(input('enter a number'))\n",
    "if number > 1:\n",
    "    for i in range(2, number):\n",
    "        if (number % i) == 0:\n",
    "            print(number, \"is a composite number\")\n",
    "            break\n",
    "    else:\n",
    "        print(number, \"is a prime number\")"
   ]
  },
  {
   "cell_type": "markdown",
   "id": "aafe548b",
   "metadata": {},
   "source": [
    "# Write a python program to check whether a given string is palindrome or not."
   ]
  },
  {
   "cell_type": "code",
   "execution_count": 18,
   "id": "0e6bd3ce",
   "metadata": {},
   "outputs": [
    {
     "name": "stdout",
     "output_type": "stream",
     "text": [
      "Enter the String :wow\n",
      "String is a palindrome\n"
     ]
    }
   ],
   "source": [
    "String1 = input('Enter the String :')\n",
    "String2 = String1[::-1]\n",
    "if String1 == String2:\n",
    "    print('String is a palindrome')\n",
    "else:\n",
    "    print('Strings is not a palindrome')"
   ]
  },
  {
   "cell_type": "markdown",
   "id": "d609c2f1",
   "metadata": {},
   "source": [
    "# Write a Python program to get the third side of right-angled triangle from two given sides."
   ]
  },
  {
   "cell_type": "code",
   "execution_count": 26,
   "id": "8e334605",
   "metadata": {},
   "outputs": [
    {
     "name": "stdout",
     "output_type": "stream",
     "text": [
      "Enter base: 20\n",
      "Enter height: 20\n",
      "Enter angle: 90\n",
      "Hypotenuse = 28.284271247461902\n"
     ]
    }
   ],
   "source": [
    "import math\n",
    "\n",
    "a = float(input(\"Enter base: \"))\n",
    "b = float(input(\"Enter height: \"))\n",
    "x = float(input(\"Enter angle: \"))\n",
    "\n",
    "c = math.sqrt(a ** 2 + b ** 2)\n",
    "#The side opposite the right angle is called the hypotenuse\n",
    "print(\"Hypotenuse =\", c)"
   ]
  },
  {
   "cell_type": "markdown",
   "id": "b66abb04",
   "metadata": {},
   "source": [
    "# Write a python program to print the frequency of each of the characters present in a given string."
   ]
  },
  {
   "cell_type": "code",
   "execution_count": 25,
   "id": "7518bfab",
   "metadata": {},
   "outputs": [
    {
     "name": "stdout",
     "output_type": "stream",
     "text": [
      "ChiragSoni\n",
      "{'C': 1, 'h': 1, 'i': 2, 'r': 1, 'a': 1, 'g': 1, 'S': 1, 'o': 1, 'n': 1}\n"
     ]
    }
   ],
   "source": [
    "string = input()\n",
    "f = {}\n",
    "for i in string:\n",
    "  f[i] = f.get(i,0) + 1\n",
    "print(f)"
   ]
  },
  {
   "cell_type": "code",
   "execution_count": null,
   "id": "316852cf",
   "metadata": {},
   "outputs": [],
   "source": []
  }
 ],
 "metadata": {
  "kernelspec": {
   "display_name": "Python 3",
   "language": "python",
   "name": "python3"
  },
  "language_info": {
   "codemirror_mode": {
    "name": "ipython",
    "version": 3
   },
   "file_extension": ".py",
   "mimetype": "text/x-python",
   "name": "python",
   "nbconvert_exporter": "python",
   "pygments_lexer": "ipython3",
   "version": "3.8.8"
  }
 },
 "nbformat": 4,
 "nbformat_minor": 5
}
